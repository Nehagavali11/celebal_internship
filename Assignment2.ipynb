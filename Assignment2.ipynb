{
 "cells": [
  {
   "cell_type": "code",
   "execution_count": 31,
   "id": "833be91d",
   "metadata": {},
   "outputs": [],
   "source": [
    "class Node:\n",
    "    def __init__(self, data):\n",
    "        self.data = data\n",
    "        self.next = None"
   ]
  },
  {
   "cell_type": "code",
   "execution_count": 32,
   "id": "54e20e47",
   "metadata": {},
   "outputs": [],
   "source": [
    "class LinkedList:\n",
    "    def __init__(self):\n",
    "        self.head = None\n",
    "\n",
    "    def add_node(self, data):\n",
    "        new_node = Node(data)\n",
    "        if self.head is None:\n",
    "            self.head = new_node\n",
    "        else:\n",
    "            current = self.head\n",
    "            while current.next:\n",
    "                current = current.next\n",
    "            current.next = new_node\n",
    "\n",
    "    def print_list(self):\n",
    "        if self.head is None:\n",
    "            print(\"List is empty\")\n",
    "        else:\n",
    "            current = self.head\n",
    "            while current:\n",
    "                print(current.data, end = \" -> \")\n",
    "                current = current.next\n",
    "            print(\"None\")\n",
    "\n",
    "    def delete_node(self,n):\n",
    "        try:\n",
    "            if self.head is None:\n",
    "                raise Exception(\"Cannot delete, List is empty\")\n",
    "            if n <= 0:\n",
    "                raise Exception(\"Index must be 1 or greater\")\n",
    "            if n == 1:\n",
    "                self.head = self.head.next\n",
    "                return\n",
    "            current = self.head\n",
    "            for i in range(n-2):\n",
    "                if current.next is None:\n",
    "                    raise Exception(\"Index out of range\")\n",
    "                current = current.next\n",
    "            \n",
    "        except Exception as e:\n",
    "            print(f\"Error:{e}\")"
   ]
  },
  {
   "cell_type": "code",
   "execution_count": 33,
   "id": "aab4f003",
   "metadata": {},
   "outputs": [
    {
     "name": "stdout",
     "output_type": "stream",
     "text": [
      "Intial List: \n",
      "10 -> 20 -> 30 -> 40 -> 50 -> None\n",
      "\n",
      "Deleting 2nd node: \n",
      "10 -> 20 -> 30 -> 40 -> 50 -> None\n",
      "\n",
      "Trying to delete 8th node(not present in list): \n",
      "Error:Index out of range\n",
      "\n",
      "Deleting head node: \n",
      "20 -> 30 -> 40 -> 50 -> None\n",
      "\n",
      "Deleting remaing node: \n",
      "50 -> None\n",
      "\n",
      "Try Deleting from empty list node: \n",
      "List is empty\n"
     ]
    }
   ],
   "source": [
    "ll = LinkedList()\n",
    "\n",
    "ll.add_node(10)\n",
    "ll.add_node(20)\n",
    "ll.add_node(30)\n",
    "ll.add_node(40)\n",
    "ll.add_node(50)\n",
    "\n",
    "print(\"Intial List: \")\n",
    "ll.print_list()\n",
    "\n",
    "\n",
    "print(\"\\nDeleting 2nd node: \")\n",
    "ll.delete_node(2)\n",
    "ll.print_list()\n",
    "\n",
    "print(\"\\nTrying to delete 8th node(not present in list): \")\n",
    "ll.delete_node(8)\n",
    "\n",
    "print(\"\\nDeleting head node: \")\n",
    "ll.delete_node(1)\n",
    "ll.print_list()\n",
    "\n",
    "print(\"\\nDeleting remaing node: \")\n",
    "ll.delete_node(1)\n",
    "ll.delete_node(1)\n",
    "ll.delete_node(1)\n",
    "ll.print_list()\n",
    "\n",
    "\n",
    "print(\"\\nTry Deleting from empty list node: \")\n",
    "ll.delete_node(1)\n",
    "ll.print_list()\n",
    "\n"
   ]
  }
 ],
 "metadata": {
  "kernelspec": {
   "display_name": "Python 3",
   "language": "python",
   "name": "python3"
  },
  "language_info": {
   "codemirror_mode": {
    "name": "ipython",
    "version": 3
   },
   "file_extension": ".py",
   "mimetype": "text/x-python",
   "name": "python",
   "nbconvert_exporter": "python",
   "pygments_lexer": "ipython3",
   "version": "3.12.3"
  }
 },
 "nbformat": 4,
 "nbformat_minor": 5
}
